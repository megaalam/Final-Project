{
 "cells": [
  {
   "cell_type": "markdown",
   "metadata": {},
   "source": [
    "## Business Problem\n",
    "\n",
    "Small Business Administration (SBA) adalah sebuah lembaga independen pemerintahan Amerika yang membantu para pengusaha di berbagai macam industri dalam bentuk jaminan dari berbagai lembaga keuangan seperti bank.\n",
    "\n",
    "Di A.S. pengusaha bisnis kecil sebenarnya tidak meminjam dari pemerintah, mereka masih meminjam dari bank, tapi SBA akan menjamin sebagian dari pinjaman mereka, sehingga memudahkan untuk memenuhi syarat dan untuk mencapai tingkat bunga yang lebih rendah. Ini adalah cara pemerintah untuk mendorong bank memberikan pinjaman kepada usaha kecil.\n",
    "\n",
    "Jika pengusaha bisnis kecil memenuhi persyaratan untuk program pinjaman usaha kecil umum SBA. Mereka harus memenuhi persyaratan pemerintah yang terkadang kompleks dan mengumpulkan aplikasi yang komprehensif, dan kemudian menunggu sampai diproses, sehingga butuh beberapa waktu tambahan.\n",
    "\n",
    "Pada project ini, saya akan coba memprediksi kemungkinan peminjam/pengusaha ini gagal bayar atau tidak berdasarkan data yang telah dikumpulkan dari tahun 1987–2014 menggunakan machine learning sehingga dapat menghemat waktu dan memudahkan untuk memutuskan untuk beri pinjaman atau tidak ke usaha kecil yang segera membutuhkan pinjaman."
   ]
  },
  {
   "cell_type": "markdown",
   "metadata": {},
   "source": [
    "1. LoanNr_ChkDgt : Identifier – Primary key\n",
    "2. Name : Borrower name\n",
    "3. City : Borrower city\n",
    "4. State : Borrower state\n",
    "5. Zip : Borrower zip code\n",
    "6. Bank : Bank name\n",
    "7. BankState : Bank state\n",
    "8. NAICS : North American industry classification system code\n",
    "9. ApprovalDate : Date SBA commitment issued\n",
    "10. ApprovalFY : Fiscal year of commitment\n",
    "11. Term : Loan term in months\n",
    "12. NoEmp : Number of business employees\n",
    "13. NewExist : 1 = Existing business, 2 = New business\n",
    "14. CreateJob : Number of jobs created\n",
    "15. RetainedJob : Number of jobs retained\n",
    "16. FranchiseCode : Franchise code, (00000 or 00001) = No franchise\n",
    "17. UrbanRural : 1 = Urban, 2 = rural, 0 = undefined\n",
    "18. RevLineCr : Revolving line of credit: Y = Yes, N = No\n",
    "19. LowDoc : LowDoc Loan Program: Y = Yes, N = No\n",
    "20. ChgOffDate : The date when a loan is declared to be in default\n",
    "21. DisbursementDate : Disbursement date\n",
    "22. DisbursementGross : Amount disbursed\n",
    "23. BalanceGross : Gross amount outstanding\n",
    "24. MIS_Status : Loan status charged off = CHGOFF, Paid in full = PIF\n",
    "25. ChgOffPrinGr : Charged-off amount\n",
    "26. GrAppv : Gross amount of loan approved by bank\n",
    "27. SBA_Appv : SBA’s guaranteed amount of approved loan"
   ]
  },
  {
   "cell_type": "code",
   "execution_count": 1,
   "metadata": {},
   "outputs": [],
   "source": [
    "import pandas as pd\n",
    "import numpy as np\n",
    "\n",
    "import seaborn as sns\n",
    "import matplotlib.pyplot as plt"
   ]
  },
  {
   "cell_type": "code",
   "execution_count": 2,
   "metadata": {},
   "outputs": [
    {
     "name": "stderr",
     "output_type": "stream",
     "text": [
      "C:\\Users\\User\\anaconda3\\lib\\site-packages\\IPython\\core\\interactiveshell.py:3071: DtypeWarning: Columns (9) have mixed types.Specify dtype option on import or set low_memory=False.\n",
      "  has_raised = await self.run_ast_nodes(code_ast.body, cell_name,\n"
     ]
    },
    {
     "data": {
      "text/html": [
       "<div>\n",
       "<style scoped>\n",
       "    .dataframe tbody tr th:only-of-type {\n",
       "        vertical-align: middle;\n",
       "    }\n",
       "\n",
       "    .dataframe tbody tr th {\n",
       "        vertical-align: top;\n",
       "    }\n",
       "\n",
       "    .dataframe thead th {\n",
       "        text-align: right;\n",
       "    }\n",
       "</style>\n",
       "<table border=\"1\" class=\"dataframe\">\n",
       "  <thead>\n",
       "    <tr style=\"text-align: right;\">\n",
       "      <th></th>\n",
       "      <th>LoanNr_ChkDgt</th>\n",
       "      <th>Name</th>\n",
       "      <th>City</th>\n",
       "      <th>State</th>\n",
       "      <th>Zip</th>\n",
       "      <th>Bank</th>\n",
       "      <th>BankState</th>\n",
       "      <th>NAICS</th>\n",
       "      <th>ApprovalDate</th>\n",
       "      <th>ApprovalFY</th>\n",
       "      <th>...</th>\n",
       "      <th>RevLineCr</th>\n",
       "      <th>LowDoc</th>\n",
       "      <th>ChgOffDate</th>\n",
       "      <th>DisbursementDate</th>\n",
       "      <th>DisbursementGross</th>\n",
       "      <th>BalanceGross</th>\n",
       "      <th>MIS_Status</th>\n",
       "      <th>ChgOffPrinGr</th>\n",
       "      <th>GrAppv</th>\n",
       "      <th>SBA_Appv</th>\n",
       "    </tr>\n",
       "  </thead>\n",
       "  <tbody>\n",
       "    <tr>\n",
       "      <th>0</th>\n",
       "      <td>1000014003</td>\n",
       "      <td>ABC HOBBYCRAFT</td>\n",
       "      <td>EVANSVILLE</td>\n",
       "      <td>IN</td>\n",
       "      <td>47711</td>\n",
       "      <td>FIFTH THIRD BANK</td>\n",
       "      <td>OH</td>\n",
       "      <td>451120</td>\n",
       "      <td>28-Feb-97</td>\n",
       "      <td>1997</td>\n",
       "      <td>...</td>\n",
       "      <td>N</td>\n",
       "      <td>Y</td>\n",
       "      <td>NaN</td>\n",
       "      <td>28-Feb-99</td>\n",
       "      <td>$60,000.00</td>\n",
       "      <td>$0.00</td>\n",
       "      <td>P I F</td>\n",
       "      <td>$0.00</td>\n",
       "      <td>$60,000.00</td>\n",
       "      <td>$48,000.00</td>\n",
       "    </tr>\n",
       "    <tr>\n",
       "      <th>1</th>\n",
       "      <td>1000024006</td>\n",
       "      <td>LANDMARK BAR &amp; GRILLE (THE)</td>\n",
       "      <td>NEW PARIS</td>\n",
       "      <td>IN</td>\n",
       "      <td>46526</td>\n",
       "      <td>1ST SOURCE BANK</td>\n",
       "      <td>IN</td>\n",
       "      <td>722410</td>\n",
       "      <td>28-Feb-97</td>\n",
       "      <td>1997</td>\n",
       "      <td>...</td>\n",
       "      <td>N</td>\n",
       "      <td>Y</td>\n",
       "      <td>NaN</td>\n",
       "      <td>31-May-97</td>\n",
       "      <td>$40,000.00</td>\n",
       "      <td>$0.00</td>\n",
       "      <td>P I F</td>\n",
       "      <td>$0.00</td>\n",
       "      <td>$40,000.00</td>\n",
       "      <td>$32,000.00</td>\n",
       "    </tr>\n",
       "    <tr>\n",
       "      <th>2</th>\n",
       "      <td>1000034009</td>\n",
       "      <td>WHITLOCK DDS, TODD M.</td>\n",
       "      <td>BLOOMINGTON</td>\n",
       "      <td>IN</td>\n",
       "      <td>47401</td>\n",
       "      <td>GRANT COUNTY STATE BANK</td>\n",
       "      <td>IN</td>\n",
       "      <td>621210</td>\n",
       "      <td>28-Feb-97</td>\n",
       "      <td>1997</td>\n",
       "      <td>...</td>\n",
       "      <td>N</td>\n",
       "      <td>N</td>\n",
       "      <td>NaN</td>\n",
       "      <td>31-Dec-97</td>\n",
       "      <td>$287,000.00</td>\n",
       "      <td>$0.00</td>\n",
       "      <td>P I F</td>\n",
       "      <td>$0.00</td>\n",
       "      <td>$287,000.00</td>\n",
       "      <td>$215,250.00</td>\n",
       "    </tr>\n",
       "    <tr>\n",
       "      <th>3</th>\n",
       "      <td>1000044001</td>\n",
       "      <td>BIG BUCKS PAWN &amp; JEWELRY, LLC</td>\n",
       "      <td>BROKEN ARROW</td>\n",
       "      <td>OK</td>\n",
       "      <td>74012</td>\n",
       "      <td>1ST NATL BK &amp; TR CO OF BROKEN</td>\n",
       "      <td>OK</td>\n",
       "      <td>0</td>\n",
       "      <td>28-Feb-97</td>\n",
       "      <td>1997</td>\n",
       "      <td>...</td>\n",
       "      <td>N</td>\n",
       "      <td>Y</td>\n",
       "      <td>NaN</td>\n",
       "      <td>30-Jun-97</td>\n",
       "      <td>$35,000.00</td>\n",
       "      <td>$0.00</td>\n",
       "      <td>P I F</td>\n",
       "      <td>$0.00</td>\n",
       "      <td>$35,000.00</td>\n",
       "      <td>$28,000.00</td>\n",
       "    </tr>\n",
       "    <tr>\n",
       "      <th>4</th>\n",
       "      <td>1000054004</td>\n",
       "      <td>ANASTASIA CONFECTIONS, INC.</td>\n",
       "      <td>ORLANDO</td>\n",
       "      <td>FL</td>\n",
       "      <td>32801</td>\n",
       "      <td>FLORIDA BUS. DEVEL CORP</td>\n",
       "      <td>FL</td>\n",
       "      <td>0</td>\n",
       "      <td>28-Feb-97</td>\n",
       "      <td>1997</td>\n",
       "      <td>...</td>\n",
       "      <td>N</td>\n",
       "      <td>N</td>\n",
       "      <td>NaN</td>\n",
       "      <td>14-May-97</td>\n",
       "      <td>$229,000.00</td>\n",
       "      <td>$0.00</td>\n",
       "      <td>P I F</td>\n",
       "      <td>$0.00</td>\n",
       "      <td>$229,000.00</td>\n",
       "      <td>$229,000.00</td>\n",
       "    </tr>\n",
       "  </tbody>\n",
       "</table>\n",
       "<p>5 rows × 27 columns</p>\n",
       "</div>"
      ],
      "text/plain": [
       "   LoanNr_ChkDgt                           Name          City State    Zip  \\\n",
       "0     1000014003                 ABC HOBBYCRAFT    EVANSVILLE    IN  47711   \n",
       "1     1000024006    LANDMARK BAR & GRILLE (THE)     NEW PARIS    IN  46526   \n",
       "2     1000034009          WHITLOCK DDS, TODD M.   BLOOMINGTON    IN  47401   \n",
       "3     1000044001  BIG BUCKS PAWN & JEWELRY, LLC  BROKEN ARROW    OK  74012   \n",
       "4     1000054004    ANASTASIA CONFECTIONS, INC.       ORLANDO    FL  32801   \n",
       "\n",
       "                            Bank BankState   NAICS ApprovalDate ApprovalFY  \\\n",
       "0               FIFTH THIRD BANK        OH  451120    28-Feb-97       1997   \n",
       "1                1ST SOURCE BANK        IN  722410    28-Feb-97       1997   \n",
       "2        GRANT COUNTY STATE BANK        IN  621210    28-Feb-97       1997   \n",
       "3  1ST NATL BK & TR CO OF BROKEN        OK       0    28-Feb-97       1997   \n",
       "4        FLORIDA BUS. DEVEL CORP        FL       0    28-Feb-97       1997   \n",
       "\n",
       "   ...  RevLineCr  LowDoc  ChgOffDate  DisbursementDate  DisbursementGross  \\\n",
       "0  ...          N       Y         NaN         28-Feb-99        $60,000.00    \n",
       "1  ...          N       Y         NaN         31-May-97        $40,000.00    \n",
       "2  ...          N       N         NaN         31-Dec-97       $287,000.00    \n",
       "3  ...          N       Y         NaN         30-Jun-97        $35,000.00    \n",
       "4  ...          N       N         NaN         14-May-97       $229,000.00    \n",
       "\n",
       "   BalanceGross  MIS_Status ChgOffPrinGr        GrAppv      SBA_Appv  \n",
       "0        $0.00        P I F       $0.00    $60,000.00    $48,000.00   \n",
       "1        $0.00        P I F       $0.00    $40,000.00    $32,000.00   \n",
       "2        $0.00        P I F       $0.00   $287,000.00   $215,250.00   \n",
       "3        $0.00        P I F       $0.00    $35,000.00    $28,000.00   \n",
       "4        $0.00        P I F       $0.00   $229,000.00   $229,000.00   \n",
       "\n",
       "[5 rows x 27 columns]"
      ]
     },
     "execution_count": 2,
     "metadata": {},
     "output_type": "execute_result"
    }
   ],
   "source": [
    "SBA = pd.read_csv('SBAnational.csv')\n",
    "SBA.head()"
   ]
  },
  {
   "cell_type": "code",
   "execution_count": 3,
   "metadata": {},
   "outputs": [
    {
     "data": {
      "text/html": [
       "<div>\n",
       "<style scoped>\n",
       "    .dataframe tbody tr th:only-of-type {\n",
       "        vertical-align: middle;\n",
       "    }\n",
       "\n",
       "    .dataframe tbody tr th {\n",
       "        vertical-align: top;\n",
       "    }\n",
       "\n",
       "    .dataframe thead th {\n",
       "        text-align: right;\n",
       "    }\n",
       "</style>\n",
       "<table border=\"1\" class=\"dataframe\">\n",
       "  <thead>\n",
       "    <tr style=\"text-align: right;\">\n",
       "      <th></th>\n",
       "      <th>LoanNr_ChkDgt</th>\n",
       "      <th>Zip</th>\n",
       "      <th>NAICS</th>\n",
       "      <th>Term</th>\n",
       "      <th>NoEmp</th>\n",
       "      <th>NewExist</th>\n",
       "      <th>CreateJob</th>\n",
       "      <th>RetainedJob</th>\n",
       "      <th>FranchiseCode</th>\n",
       "      <th>UrbanRural</th>\n",
       "    </tr>\n",
       "  </thead>\n",
       "  <tbody>\n",
       "    <tr>\n",
       "      <th>count</th>\n",
       "      <td>8.991640e+05</td>\n",
       "      <td>899164.000000</td>\n",
       "      <td>899164.000000</td>\n",
       "      <td>899164.000000</td>\n",
       "      <td>899164.000000</td>\n",
       "      <td>899028.000000</td>\n",
       "      <td>899164.000000</td>\n",
       "      <td>899164.000000</td>\n",
       "      <td>899164.000000</td>\n",
       "      <td>899164.000000</td>\n",
       "    </tr>\n",
       "    <tr>\n",
       "      <th>mean</th>\n",
       "      <td>4.772612e+09</td>\n",
       "      <td>53804.391241</td>\n",
       "      <td>398660.950146</td>\n",
       "      <td>110.773078</td>\n",
       "      <td>11.411353</td>\n",
       "      <td>1.280404</td>\n",
       "      <td>8.430376</td>\n",
       "      <td>10.797257</td>\n",
       "      <td>2753.725933</td>\n",
       "      <td>0.757748</td>\n",
       "    </tr>\n",
       "    <tr>\n",
       "      <th>std</th>\n",
       "      <td>2.538175e+09</td>\n",
       "      <td>31184.159152</td>\n",
       "      <td>263318.312759</td>\n",
       "      <td>78.857305</td>\n",
       "      <td>74.108196</td>\n",
       "      <td>0.451750</td>\n",
       "      <td>236.688165</td>\n",
       "      <td>237.120600</td>\n",
       "      <td>12758.019136</td>\n",
       "      <td>0.646436</td>\n",
       "    </tr>\n",
       "    <tr>\n",
       "      <th>min</th>\n",
       "      <td>1.000014e+09</td>\n",
       "      <td>0.000000</td>\n",
       "      <td>0.000000</td>\n",
       "      <td>0.000000</td>\n",
       "      <td>0.000000</td>\n",
       "      <td>0.000000</td>\n",
       "      <td>0.000000</td>\n",
       "      <td>0.000000</td>\n",
       "      <td>0.000000</td>\n",
       "      <td>0.000000</td>\n",
       "    </tr>\n",
       "    <tr>\n",
       "      <th>25%</th>\n",
       "      <td>2.589758e+09</td>\n",
       "      <td>27587.000000</td>\n",
       "      <td>235210.000000</td>\n",
       "      <td>60.000000</td>\n",
       "      <td>2.000000</td>\n",
       "      <td>1.000000</td>\n",
       "      <td>0.000000</td>\n",
       "      <td>0.000000</td>\n",
       "      <td>1.000000</td>\n",
       "      <td>0.000000</td>\n",
       "    </tr>\n",
       "    <tr>\n",
       "      <th>50%</th>\n",
       "      <td>4.361439e+09</td>\n",
       "      <td>55410.000000</td>\n",
       "      <td>445310.000000</td>\n",
       "      <td>84.000000</td>\n",
       "      <td>4.000000</td>\n",
       "      <td>1.000000</td>\n",
       "      <td>0.000000</td>\n",
       "      <td>1.000000</td>\n",
       "      <td>1.000000</td>\n",
       "      <td>1.000000</td>\n",
       "    </tr>\n",
       "    <tr>\n",
       "      <th>75%</th>\n",
       "      <td>6.904627e+09</td>\n",
       "      <td>83704.000000</td>\n",
       "      <td>561730.000000</td>\n",
       "      <td>120.000000</td>\n",
       "      <td>10.000000</td>\n",
       "      <td>2.000000</td>\n",
       "      <td>1.000000</td>\n",
       "      <td>4.000000</td>\n",
       "      <td>1.000000</td>\n",
       "      <td>1.000000</td>\n",
       "    </tr>\n",
       "    <tr>\n",
       "      <th>max</th>\n",
       "      <td>9.996003e+09</td>\n",
       "      <td>99999.000000</td>\n",
       "      <td>928120.000000</td>\n",
       "      <td>569.000000</td>\n",
       "      <td>9999.000000</td>\n",
       "      <td>2.000000</td>\n",
       "      <td>8800.000000</td>\n",
       "      <td>9500.000000</td>\n",
       "      <td>99999.000000</td>\n",
       "      <td>2.000000</td>\n",
       "    </tr>\n",
       "  </tbody>\n",
       "</table>\n",
       "</div>"
      ],
      "text/plain": [
       "       LoanNr_ChkDgt            Zip          NAICS           Term  \\\n",
       "count   8.991640e+05  899164.000000  899164.000000  899164.000000   \n",
       "mean    4.772612e+09   53804.391241  398660.950146     110.773078   \n",
       "std     2.538175e+09   31184.159152  263318.312759      78.857305   \n",
       "min     1.000014e+09       0.000000       0.000000       0.000000   \n",
       "25%     2.589758e+09   27587.000000  235210.000000      60.000000   \n",
       "50%     4.361439e+09   55410.000000  445310.000000      84.000000   \n",
       "75%     6.904627e+09   83704.000000  561730.000000     120.000000   \n",
       "max     9.996003e+09   99999.000000  928120.000000     569.000000   \n",
       "\n",
       "               NoEmp       NewExist      CreateJob    RetainedJob  \\\n",
       "count  899164.000000  899028.000000  899164.000000  899164.000000   \n",
       "mean       11.411353       1.280404       8.430376      10.797257   \n",
       "std        74.108196       0.451750     236.688165     237.120600   \n",
       "min         0.000000       0.000000       0.000000       0.000000   \n",
       "25%         2.000000       1.000000       0.000000       0.000000   \n",
       "50%         4.000000       1.000000       0.000000       1.000000   \n",
       "75%        10.000000       2.000000       1.000000       4.000000   \n",
       "max      9999.000000       2.000000    8800.000000    9500.000000   \n",
       "\n",
       "       FranchiseCode     UrbanRural  \n",
       "count  899164.000000  899164.000000  \n",
       "mean     2753.725933       0.757748  \n",
       "std     12758.019136       0.646436  \n",
       "min         0.000000       0.000000  \n",
       "25%         1.000000       0.000000  \n",
       "50%         1.000000       1.000000  \n",
       "75%         1.000000       1.000000  \n",
       "max     99999.000000       2.000000  "
      ]
     },
     "execution_count": 3,
     "metadata": {},
     "output_type": "execute_result"
    }
   ],
   "source": [
    "SBA.describe()"
   ]
  },
  {
   "cell_type": "code",
   "execution_count": 4,
   "metadata": {},
   "outputs": [
    {
     "name": "stdout",
     "output_type": "stream",
     "text": [
      "<class 'pandas.core.frame.DataFrame'>\n",
      "RangeIndex: 899164 entries, 0 to 899163\n",
      "Data columns (total 27 columns):\n",
      " #   Column             Non-Null Count   Dtype  \n",
      "---  ------             --------------   -----  \n",
      " 0   LoanNr_ChkDgt      899164 non-null  int64  \n",
      " 1   Name               899150 non-null  object \n",
      " 2   City               899134 non-null  object \n",
      " 3   State              899150 non-null  object \n",
      " 4   Zip                899164 non-null  int64  \n",
      " 5   Bank               897605 non-null  object \n",
      " 6   BankState          897598 non-null  object \n",
      " 7   NAICS              899164 non-null  int64  \n",
      " 8   ApprovalDate       899164 non-null  object \n",
      " 9   ApprovalFY         899164 non-null  object \n",
      " 10  Term               899164 non-null  int64  \n",
      " 11  NoEmp              899164 non-null  int64  \n",
      " 12  NewExist           899028 non-null  float64\n",
      " 13  CreateJob          899164 non-null  int64  \n",
      " 14  RetainedJob        899164 non-null  int64  \n",
      " 15  FranchiseCode      899164 non-null  int64  \n",
      " 16  UrbanRural         899164 non-null  int64  \n",
      " 17  RevLineCr          894636 non-null  object \n",
      " 18  LowDoc             896582 non-null  object \n",
      " 19  ChgOffDate         162699 non-null  object \n",
      " 20  DisbursementDate   896796 non-null  object \n",
      " 21  DisbursementGross  899164 non-null  object \n",
      " 22  BalanceGross       899164 non-null  object \n",
      " 23  MIS_Status         897167 non-null  object \n",
      " 24  ChgOffPrinGr       899164 non-null  object \n",
      " 25  GrAppv             899164 non-null  object \n",
      " 26  SBA_Appv           899164 non-null  object \n",
      "dtypes: float64(1), int64(9), object(17)\n",
      "memory usage: 185.2+ MB\n"
     ]
    }
   ],
   "source": [
    "SBA.info()"
   ]
  },
  {
   "cell_type": "code",
   "execution_count": 5,
   "metadata": {},
   "outputs": [
    {
     "data": {
      "text/plain": [
       "LoanNr_ChkDgt             0\n",
       "Name                     14\n",
       "City                     30\n",
       "State                    14\n",
       "Zip                       0\n",
       "Bank                   1559\n",
       "BankState              1566\n",
       "NAICS                     0\n",
       "ApprovalDate              0\n",
       "ApprovalFY                0\n",
       "Term                      0\n",
       "NoEmp                     0\n",
       "NewExist                136\n",
       "CreateJob                 0\n",
       "RetainedJob               0\n",
       "FranchiseCode             0\n",
       "UrbanRural                0\n",
       "RevLineCr              4528\n",
       "LowDoc                 2582\n",
       "ChgOffDate           736465\n",
       "DisbursementDate       2368\n",
       "DisbursementGross         0\n",
       "BalanceGross              0\n",
       "MIS_Status             1997\n",
       "ChgOffPrinGr              0\n",
       "GrAppv                    0\n",
       "SBA_Appv                  0\n",
       "dtype: int64"
      ]
     },
     "execution_count": 5,
     "metadata": {},
     "output_type": "execute_result"
    }
   ],
   "source": [
    "SBA.isna().sum()"
   ]
  },
  {
   "cell_type": "code",
   "execution_count": 6,
   "metadata": {},
   "outputs": [
    {
     "name": "stdout",
     "output_type": "stream",
     "text": [
      "LoanNr_ChkDgt\n",
      "899164\n",
      "\n",
      "Name\n",
      "779583\n",
      "\n",
      "City\n",
      "32581\n",
      "\n",
      "State\n",
      "51\n",
      "\n",
      "Zip\n",
      "33611\n",
      "\n",
      "Bank\n",
      "5802\n",
      "\n",
      "BankState\n",
      "56\n",
      "\n",
      "NAICS\n",
      "1312\n",
      "\n",
      "ApprovalDate\n",
      "9859\n",
      "\n",
      "ApprovalFY\n",
      "70\n",
      "\n",
      "Term\n",
      "412\n",
      "\n",
      "NoEmp\n",
      "599\n",
      "\n",
      "NewExist\n",
      "3\n",
      "\n",
      "CreateJob\n",
      "246\n",
      "\n",
      "RetainedJob\n",
      "358\n",
      "\n",
      "FranchiseCode\n",
      "2768\n",
      "\n",
      "UrbanRural\n",
      "3\n",
      "\n",
      "RevLineCr\n",
      "18\n",
      "\n",
      "LowDoc\n",
      "8\n",
      "\n",
      "ChgOffDate\n",
      "6448\n",
      "\n",
      "DisbursementDate\n",
      "8472\n",
      "\n",
      "DisbursementGross\n",
      "118859\n",
      "\n",
      "BalanceGross\n",
      "15\n",
      "\n",
      "MIS_Status\n",
      "2\n",
      "\n",
      "ChgOffPrinGr\n",
      "83165\n",
      "\n",
      "GrAppv\n",
      "22128\n",
      "\n",
      "SBA_Appv\n",
      "38326\n",
      "\n"
     ]
    }
   ],
   "source": [
    "for i in SBA :\n",
    "    print(i)\n",
    "    print(SBA[i].nunique())\n",
    "    print(\"\\r\")"
   ]
  },
  {
   "cell_type": "markdown",
   "metadata": {},
   "source": [
    "## Preprocessing"
   ]
  },
  {
   "cell_type": "markdown",
   "metadata": {},
   "source": [
    "### Date (ApprovalDate, ChgOffDate, DisbursementDate)"
   ]
  },
  {
   "cell_type": "code",
   "execution_count": 7,
   "metadata": {},
   "outputs": [
    {
     "data": {
      "text/html": [
       "<div>\n",
       "<style scoped>\n",
       "    .dataframe tbody tr th:only-of-type {\n",
       "        vertical-align: middle;\n",
       "    }\n",
       "\n",
       "    .dataframe tbody tr th {\n",
       "        vertical-align: top;\n",
       "    }\n",
       "\n",
       "    .dataframe thead th {\n",
       "        text-align: right;\n",
       "    }\n",
       "</style>\n",
       "<table border=\"1\" class=\"dataframe\">\n",
       "  <thead>\n",
       "    <tr style=\"text-align: right;\">\n",
       "      <th></th>\n",
       "      <th>ApprovalDate</th>\n",
       "      <th>ChgOffDate</th>\n",
       "      <th>DisbursementDate</th>\n",
       "    </tr>\n",
       "  </thead>\n",
       "  <tbody>\n",
       "    <tr>\n",
       "      <th>0</th>\n",
       "      <td>28-Feb-97</td>\n",
       "      <td>NaN</td>\n",
       "      <td>28-Feb-99</td>\n",
       "    </tr>\n",
       "    <tr>\n",
       "      <th>1</th>\n",
       "      <td>28-Feb-97</td>\n",
       "      <td>NaN</td>\n",
       "      <td>31-May-97</td>\n",
       "    </tr>\n",
       "    <tr>\n",
       "      <th>2</th>\n",
       "      <td>28-Feb-97</td>\n",
       "      <td>NaN</td>\n",
       "      <td>31-Dec-97</td>\n",
       "    </tr>\n",
       "    <tr>\n",
       "      <th>3</th>\n",
       "      <td>28-Feb-97</td>\n",
       "      <td>NaN</td>\n",
       "      <td>30-Jun-97</td>\n",
       "    </tr>\n",
       "    <tr>\n",
       "      <th>4</th>\n",
       "      <td>28-Feb-97</td>\n",
       "      <td>NaN</td>\n",
       "      <td>14-May-97</td>\n",
       "    </tr>\n",
       "  </tbody>\n",
       "</table>\n",
       "</div>"
      ],
      "text/plain": [
       "  ApprovalDate ChgOffDate DisbursementDate\n",
       "0    28-Feb-97        NaN        28-Feb-99\n",
       "1    28-Feb-97        NaN        31-May-97\n",
       "2    28-Feb-97        NaN        31-Dec-97\n",
       "3    28-Feb-97        NaN        30-Jun-97\n",
       "4    28-Feb-97        NaN        14-May-97"
      ]
     },
     "execution_count": 7,
     "metadata": {},
     "output_type": "execute_result"
    }
   ],
   "source": [
    "SBA[['ApprovalDate', 'ChgOffDate', 'DisbursementDate']].head()"
   ]
  },
  {
   "cell_type": "code",
   "execution_count": 8,
   "metadata": {},
   "outputs": [
    {
     "data": {
      "text/plain": [
       "array([nan, '24-Jun-91', '18-Apr-02', ..., '25-Dec-02', '11-Jul-00',\n",
       "       '9-Oct-98'], dtype=object)"
      ]
     },
     "execution_count": 8,
     "metadata": {},
     "output_type": "execute_result"
    }
   ],
   "source": [
    "SBA['ChgOffDate'].unique()"
   ]
  },
  {
   "cell_type": "code",
   "execution_count": 9,
   "metadata": {},
   "outputs": [],
   "source": [
    "SBA['ApprovalDate'] = pd.to_datetime(SBA['ApprovalDate'],format='%d-%b-%y')"
   ]
  },
  {
   "cell_type": "code",
   "execution_count": 10,
   "metadata": {},
   "outputs": [],
   "source": [
    "SBA['ChgOffDate'] = pd.to_datetime(SBA['ChgOffDate'],format='%d-%b-%y')"
   ]
  },
  {
   "cell_type": "code",
   "execution_count": 11,
   "metadata": {},
   "outputs": [],
   "source": [
    "SBA['DisbursementDate'] = pd.to_datetime(SBA['DisbursementDate'],format='%d-%b-%y')"
   ]
  },
  {
   "cell_type": "code",
   "execution_count": 12,
   "metadata": {},
   "outputs": [
    {
     "data": {
      "text/html": [
       "<div>\n",
       "<style scoped>\n",
       "    .dataframe tbody tr th:only-of-type {\n",
       "        vertical-align: middle;\n",
       "    }\n",
       "\n",
       "    .dataframe tbody tr th {\n",
       "        vertical-align: top;\n",
       "    }\n",
       "\n",
       "    .dataframe thead th {\n",
       "        text-align: right;\n",
       "    }\n",
       "</style>\n",
       "<table border=\"1\" class=\"dataframe\">\n",
       "  <thead>\n",
       "    <tr style=\"text-align: right;\">\n",
       "      <th></th>\n",
       "      <th>ApprovalDate</th>\n",
       "      <th>ChgOffDate</th>\n",
       "      <th>DisbursementDate</th>\n",
       "    </tr>\n",
       "  </thead>\n",
       "  <tbody>\n",
       "    <tr>\n",
       "      <th>0</th>\n",
       "      <td>1997-02-28</td>\n",
       "      <td>NaT</td>\n",
       "      <td>1999-02-28</td>\n",
       "    </tr>\n",
       "    <tr>\n",
       "      <th>1</th>\n",
       "      <td>1997-02-28</td>\n",
       "      <td>NaT</td>\n",
       "      <td>1997-05-31</td>\n",
       "    </tr>\n",
       "    <tr>\n",
       "      <th>2</th>\n",
       "      <td>1997-02-28</td>\n",
       "      <td>NaT</td>\n",
       "      <td>1997-12-31</td>\n",
       "    </tr>\n",
       "    <tr>\n",
       "      <th>3</th>\n",
       "      <td>1997-02-28</td>\n",
       "      <td>NaT</td>\n",
       "      <td>1997-06-30</td>\n",
       "    </tr>\n",
       "    <tr>\n",
       "      <th>4</th>\n",
       "      <td>1997-02-28</td>\n",
       "      <td>NaT</td>\n",
       "      <td>1997-05-14</td>\n",
       "    </tr>\n",
       "  </tbody>\n",
       "</table>\n",
       "</div>"
      ],
      "text/plain": [
       "  ApprovalDate ChgOffDate DisbursementDate\n",
       "0   1997-02-28        NaT       1999-02-28\n",
       "1   1997-02-28        NaT       1997-05-31\n",
       "2   1997-02-28        NaT       1997-12-31\n",
       "3   1997-02-28        NaT       1997-06-30\n",
       "4   1997-02-28        NaT       1997-05-14"
      ]
     },
     "execution_count": 12,
     "metadata": {},
     "output_type": "execute_result"
    }
   ],
   "source": [
    "SBA[['ApprovalDate', 'ChgOffDate', 'DisbursementDate']].head()"
   ]
  },
  {
   "cell_type": "code",
   "execution_count": 13,
   "metadata": {},
   "outputs": [
    {
     "data": {
      "text/plain": [
       "array([                          'NaT', '1991-06-24T00:00:00.000000000',\n",
       "       '2002-04-18T00:00:00.000000000', ...,\n",
       "       '2002-12-25T00:00:00.000000000', '2000-07-11T00:00:00.000000000',\n",
       "       '1998-10-09T00:00:00.000000000'], dtype='datetime64[ns]')"
      ]
     },
     "execution_count": 13,
     "metadata": {},
     "output_type": "execute_result"
    }
   ],
   "source": [
    "SBA['ChgOffDate'].unique()"
   ]
  },
  {
   "cell_type": "code",
   "execution_count": null,
   "metadata": {},
   "outputs": [],
   "source": []
  },
  {
   "cell_type": "markdown",
   "metadata": {},
   "source": [
    "## ApprovalFY"
   ]
  },
  {
   "cell_type": "code",
   "execution_count": 14,
   "metadata": {},
   "outputs": [
    {
     "data": {
      "text/plain": [
       "array([1997, 1980, 2006, 1998, 1999, 2000, 2001, 1972, 2003, 2004, 1978,\n",
       "       1979, 1981, 2005, 1962, 1982, 1965, 1966, 1983, 1973, 1984, 2007,\n",
       "       1985, 1986, 1987, 2008, 1988, 2009, 1989, 1991, 1990, 1974, 2010,\n",
       "       1967, 2011, 1992, 1993, 2002, 2012, 2013, 1994, 2014, 1975, 1977,\n",
       "       1976, 1968, '2004', '1994', '1979', '1976', '1967', '1975', '1974',\n",
       "       '1977', '1981', '1982', '1983', '1984', '1978', '1980', '1968',\n",
       "       '1976A', '1969', '1995', '1970', '2005', '1996', '1971', 1996,\n",
       "       1971], dtype=object)"
      ]
     },
     "execution_count": 14,
     "metadata": {},
     "output_type": "execute_result"
    }
   ],
   "source": [
    "SBA['ApprovalFY'].unique()"
   ]
  },
  {
   "cell_type": "code",
   "execution_count": 15,
   "metadata": {},
   "outputs": [
    {
     "data": {
      "text/plain": [
       "array([1997, 1980, 2006, 1998, 1999, 2000, 2001, 1972, 2003, 2004, 1978,\n",
       "       1979, 1981, 2005, 1962, 1982, 1965, 1966, 1983, 1973, 1984, 2007,\n",
       "       1985, 1986, 1987, 2008, 1988, 2009, 1989, 1991, 1990, 1974, 2010,\n",
       "       1967, 2011, 1992, 1993, 2002, 2012, 2013, 1994, 2014, 1975, 1977,\n",
       "       1976, 1968, '2004', '1994', '1979', '1976', '1967', '1975', '1974',\n",
       "       '1977', '1981', '1982', '1983', '1984', '1978', '1980', '1968',\n",
       "       '1969', '1995', '1970', '2005', '1996', '1971', 1996, 1971],\n",
       "      dtype=object)"
      ]
     },
     "execution_count": 15,
     "metadata": {},
     "output_type": "execute_result"
    }
   ],
   "source": [
    "# Setelah di cek, ada 1976A, akan diubah menjadi tahun 1976 \n",
    "\n",
    "SBA['ApprovalFY'].replace('1976A', 1976, inplace = True)\n",
    "SBA['ApprovalFY'].unique()"
   ]
  },
  {
   "cell_type": "code",
   "execution_count": 16,
   "metadata": {},
   "outputs": [],
   "source": [
    "# approvalFY akan diubah menjadi integer\n",
    "SBA['ApprovalFY']= SBA['ApprovalFY'].astype(int)"
   ]
  },
  {
   "cell_type": "code",
   "execution_count": 17,
   "metadata": {},
   "outputs": [
    {
     "data": {
      "text/plain": [
       "array([1997, 1980, 2006, 1998, 1999, 2000, 2001, 1972, 2003, 2004, 1978,\n",
       "       1979, 1981, 2005, 1962, 1982, 1965, 1966, 1983, 1973, 1984, 2007,\n",
       "       1985, 1986, 1987, 2008, 1988, 2009, 1989, 1991, 1990, 1974, 2010,\n",
       "       1967, 2011, 1992, 1993, 2002, 2012, 2013, 1994, 2014, 1975, 1977,\n",
       "       1976, 1968, 1969, 1995, 1970, 1996, 1971])"
      ]
     },
     "execution_count": 17,
     "metadata": {},
     "output_type": "execute_result"
    }
   ],
   "source": [
    "SBA['ApprovalFY'].unique()"
   ]
  },
  {
   "cell_type": "code",
   "execution_count": null,
   "metadata": {},
   "outputs": [],
   "source": []
  },
  {
   "cell_type": "code",
   "execution_count": null,
   "metadata": {},
   "outputs": [],
   "source": []
  },
  {
   "cell_type": "markdown",
   "metadata": {},
   "source": [
    "## Currency (DisbursementGross, BalanceGross, ChgOffPrinGr, GrAppv, SBA_Appv)"
   ]
  },
  {
   "cell_type": "code",
   "execution_count": 18,
   "metadata": {},
   "outputs": [
    {
     "data": {
      "text/html": [
       "<div>\n",
       "<style scoped>\n",
       "    .dataframe tbody tr th:only-of-type {\n",
       "        vertical-align: middle;\n",
       "    }\n",
       "\n",
       "    .dataframe tbody tr th {\n",
       "        vertical-align: top;\n",
       "    }\n",
       "\n",
       "    .dataframe thead th {\n",
       "        text-align: right;\n",
       "    }\n",
       "</style>\n",
       "<table border=\"1\" class=\"dataframe\">\n",
       "  <thead>\n",
       "    <tr style=\"text-align: right;\">\n",
       "      <th></th>\n",
       "      <th>DisbursementGross</th>\n",
       "      <th>BalanceGross</th>\n",
       "      <th>ChgOffPrinGr</th>\n",
       "      <th>GrAppv</th>\n",
       "      <th>SBA_Appv</th>\n",
       "    </tr>\n",
       "  </thead>\n",
       "  <tbody>\n",
       "    <tr>\n",
       "      <th>0</th>\n",
       "      <td>$60,000.00</td>\n",
       "      <td>$0.00</td>\n",
       "      <td>$0.00</td>\n",
       "      <td>$60,000.00</td>\n",
       "      <td>$48,000.00</td>\n",
       "    </tr>\n",
       "    <tr>\n",
       "      <th>1</th>\n",
       "      <td>$40,000.00</td>\n",
       "      <td>$0.00</td>\n",
       "      <td>$0.00</td>\n",
       "      <td>$40,000.00</td>\n",
       "      <td>$32,000.00</td>\n",
       "    </tr>\n",
       "    <tr>\n",
       "      <th>2</th>\n",
       "      <td>$287,000.00</td>\n",
       "      <td>$0.00</td>\n",
       "      <td>$0.00</td>\n",
       "      <td>$287,000.00</td>\n",
       "      <td>$215,250.00</td>\n",
       "    </tr>\n",
       "    <tr>\n",
       "      <th>3</th>\n",
       "      <td>$35,000.00</td>\n",
       "      <td>$0.00</td>\n",
       "      <td>$0.00</td>\n",
       "      <td>$35,000.00</td>\n",
       "      <td>$28,000.00</td>\n",
       "    </tr>\n",
       "    <tr>\n",
       "      <th>4</th>\n",
       "      <td>$229,000.00</td>\n",
       "      <td>$0.00</td>\n",
       "      <td>$0.00</td>\n",
       "      <td>$229,000.00</td>\n",
       "      <td>$229,000.00</td>\n",
       "    </tr>\n",
       "  </tbody>\n",
       "</table>\n",
       "</div>"
      ],
      "text/plain": [
       "  DisbursementGross BalanceGross ChgOffPrinGr        GrAppv      SBA_Appv\n",
       "0       $60,000.00        $0.00        $0.00    $60,000.00    $48,000.00 \n",
       "1       $40,000.00        $0.00        $0.00    $40,000.00    $32,000.00 \n",
       "2      $287,000.00        $0.00        $0.00   $287,000.00   $215,250.00 \n",
       "3       $35,000.00        $0.00        $0.00    $35,000.00    $28,000.00 \n",
       "4      $229,000.00        $0.00        $0.00   $229,000.00   $229,000.00 "
      ]
     },
     "execution_count": 18,
     "metadata": {},
     "output_type": "execute_result"
    }
   ],
   "source": [
    "# Kolom Currency akan diubah menjadi float\n",
    "curr_col = ['DisbursementGross', 'BalanceGross', 'ChgOffPrinGr', 'GrAppv', 'SBA_Appv']\n",
    "SBA[curr_col].head()"
   ]
  },
  {
   "cell_type": "code",
   "execution_count": 19,
   "metadata": {},
   "outputs": [
    {
     "data": {
      "text/plain": [
       "dtype('O')"
      ]
     },
     "execution_count": 19,
     "metadata": {},
     "output_type": "execute_result"
    }
   ],
   "source": [
    "SBA['DisbursementGross'].dtypes"
   ]
  },
  {
   "cell_type": "code",
   "execution_count": 20,
   "metadata": {},
   "outputs": [
    {
     "data": {
      "text/plain": [
       "0          $60,000.00 \n",
       "1          $40,000.00 \n",
       "2         $287,000.00 \n",
       "3          $35,000.00 \n",
       "4         $229,000.00 \n",
       "              ...     \n",
       "899159     $70,000.00 \n",
       "899160     $85,000.00 \n",
       "899161    $300,000.00 \n",
       "899162     $75,000.00 \n",
       "899163     $30,000.00 \n",
       "Name: DisbursementGross, Length: 899164, dtype: object"
      ]
     },
     "execution_count": 20,
     "metadata": {},
     "output_type": "execute_result"
    }
   ],
   "source": [
    "SBA[curr_col[0]]"
   ]
  },
  {
   "cell_type": "code",
   "execution_count": 21,
   "metadata": {},
   "outputs": [
    {
     "data": {
      "text/html": [
       "<div>\n",
       "<style scoped>\n",
       "    .dataframe tbody tr th:only-of-type {\n",
       "        vertical-align: middle;\n",
       "    }\n",
       "\n",
       "    .dataframe tbody tr th {\n",
       "        vertical-align: top;\n",
       "    }\n",
       "\n",
       "    .dataframe thead th {\n",
       "        text-align: right;\n",
       "    }\n",
       "</style>\n",
       "<table border=\"1\" class=\"dataframe\">\n",
       "  <thead>\n",
       "    <tr style=\"text-align: right;\">\n",
       "      <th></th>\n",
       "      <th>DisbursementGross</th>\n",
       "      <th>BalanceGross</th>\n",
       "      <th>ChgOffPrinGr</th>\n",
       "      <th>GrAppv</th>\n",
       "      <th>SBA_Appv</th>\n",
       "    </tr>\n",
       "  </thead>\n",
       "  <tbody>\n",
       "    <tr>\n",
       "      <th>0</th>\n",
       "      <td>60000.0</td>\n",
       "      <td>0.0</td>\n",
       "      <td>0.0</td>\n",
       "      <td>60000.0</td>\n",
       "      <td>48000.0</td>\n",
       "    </tr>\n",
       "    <tr>\n",
       "      <th>1</th>\n",
       "      <td>40000.0</td>\n",
       "      <td>0.0</td>\n",
       "      <td>0.0</td>\n",
       "      <td>40000.0</td>\n",
       "      <td>32000.0</td>\n",
       "    </tr>\n",
       "    <tr>\n",
       "      <th>2</th>\n",
       "      <td>287000.0</td>\n",
       "      <td>0.0</td>\n",
       "      <td>0.0</td>\n",
       "      <td>287000.0</td>\n",
       "      <td>215250.0</td>\n",
       "    </tr>\n",
       "    <tr>\n",
       "      <th>3</th>\n",
       "      <td>35000.0</td>\n",
       "      <td>0.0</td>\n",
       "      <td>0.0</td>\n",
       "      <td>35000.0</td>\n",
       "      <td>28000.0</td>\n",
       "    </tr>\n",
       "    <tr>\n",
       "      <th>4</th>\n",
       "      <td>229000.0</td>\n",
       "      <td>0.0</td>\n",
       "      <td>0.0</td>\n",
       "      <td>229000.0</td>\n",
       "      <td>229000.0</td>\n",
       "    </tr>\n",
       "  </tbody>\n",
       "</table>\n",
       "</div>"
      ],
      "text/plain": [
       "   DisbursementGross  BalanceGross  ChgOffPrinGr    GrAppv  SBA_Appv\n",
       "0            60000.0           0.0           0.0   60000.0   48000.0\n",
       "1            40000.0           0.0           0.0   40000.0   32000.0\n",
       "2           287000.0           0.0           0.0  287000.0  215250.0\n",
       "3            35000.0           0.0           0.0   35000.0   28000.0\n",
       "4           229000.0           0.0           0.0  229000.0  229000.0"
      ]
     },
     "execution_count": 21,
     "metadata": {},
     "output_type": "execute_result"
    }
   ],
   "source": [
    "# Merubah kolom currency menjadi float\n",
    "\n",
    "def remove_dollar(x) :\n",
    "    k = x.replace('$', '')\n",
    "    l = k.replace(' ', '')\n",
    "    m = l.replace(',', '')\n",
    "    return float(m)\n",
    "\n",
    "for i in range(5) :\n",
    "    SBA[curr_col[i]] = SBA[curr_col[i]].apply(lambda x : remove_dollar(x))\n",
    "    \n",
    "SBA[curr_col].head()"
   ]
  },
  {
   "cell_type": "code",
   "execution_count": null,
   "metadata": {},
   "outputs": [],
   "source": []
  },
  {
   "cell_type": "markdown",
   "metadata": {},
   "source": [
    "## MIS_Status"
   ]
  },
  {
   "cell_type": "code",
   "execution_count": 22,
   "metadata": {},
   "outputs": [
    {
     "data": {
      "text/plain": [
       "array(['P I F', 'CHGOFF', nan], dtype=object)"
      ]
     },
     "execution_count": 22,
     "metadata": {},
     "output_type": "execute_result"
    }
   ],
   "source": [
    "SBA['MIS_Status'].unique()"
   ]
  },
  {
   "cell_type": "code",
   "execution_count": 23,
   "metadata": {},
   "outputs": [
    {
     "data": {
      "text/plain": [
       "P I F     739609\n",
       "CHGOFF    157558\n",
       "Name: MIS_Status, dtype: int64"
      ]
     },
     "execution_count": 23,
     "metadata": {},
     "output_type": "execute_result"
    }
   ],
   "source": [
    "SBA['MIS_Status'].value_counts()"
   ]
  },
  {
   "cell_type": "code",
   "execution_count": 24,
   "metadata": {},
   "outputs": [
    {
     "data": {
      "text/plain": [
       "1997"
      ]
     },
     "execution_count": 24,
     "metadata": {},
     "output_type": "execute_result"
    }
   ],
   "source": [
    "SBA['MIS_Status'].isna().sum()"
   ]
  },
  {
   "cell_type": "code",
   "execution_count": 25,
   "metadata": {},
   "outputs": [
    {
     "data": {
      "text/plain": [
       "0.0    739609\n",
       "1.0    157558\n",
       "Name: MIS_Status, dtype: int64"
      ]
     },
     "execution_count": 25,
     "metadata": {},
     "output_type": "execute_result"
    }
   ],
   "source": [
    "# Merubah MIS_Status dari string menjadi integer\n",
    "SBA['MIS_Status'] = SBA['MIS_Status'].replace({'P I F' : 0, 'CHGOFF' : 1})\n",
    "SBA.MIS_Status.value_counts()"
   ]
  },
  {
   "cell_type": "code",
   "execution_count": 26,
   "metadata": {},
   "outputs": [
    {
     "data": {
      "text/plain": [
       "0    0.0\n",
       "1    0.0\n",
       "2    0.0\n",
       "3    0.0\n",
       "4    0.0\n",
       "Name: MIS_Status, dtype: float64"
      ]
     },
     "execution_count": 26,
     "metadata": {},
     "output_type": "execute_result"
    }
   ],
   "source": [
    "SBA['MIS_Status'].head()"
   ]
  },
  {
   "cell_type": "code",
   "execution_count": null,
   "metadata": {},
   "outputs": [],
   "source": []
  },
  {
   "cell_type": "markdown",
   "metadata": {},
   "source": [
    "Ingat, MIS_Status (status pinjaman ada 2 jenis), dibayar penuh dan pinjaman dibebankan (tidak dibayar penuh)\n",
    "\n",
    "ChgOffDate adalah tanggal saat pinjaman gagal bayar. Jadi, kalau ada tanggalnya sudah pasti status pinjaman dibebankan. Kalau tidak ada tanggal di ChgOffDate berarti status pinjaman dibayar penuh."
   ]
  },
  {
   "cell_type": "code",
   "execution_count": 27,
   "metadata": {},
   "outputs": [],
   "source": [
    "# Mengisi input yang kosong pada MIS_Status dengan CghOffDate dengan mencocokan indexnya\n",
    "\n",
    "SBA['MIS_Status'] = np.where((SBA['MIS_Status'] == 0.0) & (SBA['ChgOffDate'] == np.nan),0, SBA.MIS_Status)\n",
    "SBA['MIS_Status'] = np.where((SBA['MIS_Status'] == 1.0) & (SBA['ChgOffDate'] != np.nan),1, SBA.MIS_Status)\n",
    "\n",
    "SBA = SBA[(SBA['MIS_Status'] == 0) | (SBA['MIS_Status'] == 1)]"
   ]
  },
  {
   "cell_type": "code",
   "execution_count": 28,
   "metadata": {},
   "outputs": [
    {
     "name": "stdout",
     "output_type": "stream",
     "text": [
      "   MIS_Status ChgOffDate\n",
      "0         0.0        NaT\n",
      "1         0.0        NaT\n",
      "2         0.0        NaT\n",
      "3         0.0        NaT\n",
      "4         0.0        NaT\n",
      "5         0.0        NaT\n",
      "6         1.0 1991-06-24\n",
      "7         0.0        NaT\n",
      "8         0.0        NaT\n",
      "9         0.0        NaT\n"
     ]
    }
   ],
   "source": [
    "print(SBA[['MIS_Status', 'ChgOffDate']].head(10))"
   ]
  },
  {
   "cell_type": "code",
   "execution_count": 29,
   "metadata": {},
   "outputs": [
    {
     "data": {
      "text/plain": [
       "0.0    739609\n",
       "1.0    157558\n",
       "Name: MIS_Status, dtype: int64"
      ]
     },
     "execution_count": 29,
     "metadata": {},
     "output_type": "execute_result"
    }
   ],
   "source": [
    "SBA.MIS_Status.value_counts()"
   ]
  },
  {
   "cell_type": "code",
   "execution_count": 30,
   "metadata": {},
   "outputs": [
    {
     "data": {
      "text/plain": [
       "0"
      ]
     },
     "execution_count": 30,
     "metadata": {},
     "output_type": "execute_result"
    }
   ],
   "source": [
    "SBA['MIS_Status'].isna().sum()"
   ]
  },
  {
   "cell_type": "code",
   "execution_count": null,
   "metadata": {},
   "outputs": [],
   "source": []
  },
  {
   "cell_type": "code",
   "execution_count": null,
   "metadata": {},
   "outputs": [],
   "source": []
  },
  {
   "cell_type": "markdown",
   "metadata": {},
   "source": [
    "## LowDoc"
   ]
  },
  {
   "cell_type": "code",
   "execution_count": 31,
   "metadata": {},
   "outputs": [
    {
     "data": {
      "text/plain": [
       "0    Y\n",
       "1    Y\n",
       "2    N\n",
       "3    Y\n",
       "4    N\n",
       "Name: LowDoc, dtype: object"
      ]
     },
     "execution_count": 31,
     "metadata": {},
     "output_type": "execute_result"
    }
   ],
   "source": [
    "SBA['LowDoc'].head()"
   ]
  },
  {
   "cell_type": "code",
   "execution_count": 32,
   "metadata": {},
   "outputs": [
    {
     "data": {
      "text/plain": [
       "array(['Y', 'N', 'C', '1', nan, 'S', 'R', 'A', '0'], dtype=object)"
      ]
     },
     "execution_count": 32,
     "metadata": {},
     "output_type": "execute_result"
    }
   ],
   "source": [
    "SBA['LowDoc'].unique()"
   ]
  },
  {
   "cell_type": "code",
   "execution_count": 33,
   "metadata": {},
   "outputs": [
    {
     "data": {
      "text/plain": [
       "2578"
      ]
     },
     "execution_count": 33,
     "metadata": {},
     "output_type": "execute_result"
    }
   ],
   "source": [
    "SBA['LowDoc'].isna().sum()"
   ]
  },
  {
   "cell_type": "code",
   "execution_count": 34,
   "metadata": {},
   "outputs": [
    {
     "data": {
      "text/plain": [
       "N    780997\n",
       "Y    110171\n",
       "0      1490\n",
       "C       758\n",
       "S       603\n",
       "A       495\n",
       "R        74\n",
       "1         1\n",
       "Name: LowDoc, dtype: int64"
      ]
     },
     "execution_count": 34,
     "metadata": {},
     "output_type": "execute_result"
    }
   ],
   "source": [
    "SBA['LowDoc'].value_counts()"
   ]
  },
  {
   "cell_type": "code",
   "execution_count": 35,
   "metadata": {},
   "outputs": [
    {
     "data": {
      "text/plain": [
       "False    893746\n",
       "True       3421\n",
       "Name: LowDoc, dtype: int64"
      ]
     },
     "execution_count": 35,
     "metadata": {},
     "output_type": "execute_result"
    }
   ],
   "source": [
    "((SBA['LowDoc'] == '0') | (SBA['LowDoc'] == 'C') | (SBA['LowDoc'] == 'S') | (SBA['LowDoc'] == 'A') | (SBA['LowDoc'] == 'R') | (SBA['LowDoc'] == '1')).value_counts()"
   ]
  },
  {
   "cell_type": "code",
   "execution_count": 36,
   "metadata": {},
   "outputs": [],
   "source": [
    "# Selain 'Y' dan 'N' akan diubah menjadi nan, akan dihitung berapa jumlah nan yang ada\n",
    "SBA['LowDoc'] = SBA['LowDoc'].replace({'C': np.nan, 'S': np.nan, 'A': np.nan, 'R': np.nan, '1': np.nan, '0' : np.nan})"
   ]
  },
  {
   "cell_type": "code",
   "execution_count": 37,
   "metadata": {},
   "outputs": [
    {
     "data": {
      "text/plain": [
       "array(['Y', 'N', nan], dtype=object)"
      ]
     },
     "execution_count": 37,
     "metadata": {},
     "output_type": "execute_result"
    }
   ],
   "source": [
    "SBA['LowDoc'].unique()"
   ]
  },
  {
   "cell_type": "code",
   "execution_count": 38,
   "metadata": {},
   "outputs": [
    {
     "data": {
      "text/html": [
       "<div>\n",
       "<style scoped>\n",
       "    .dataframe tbody tr th:only-of-type {\n",
       "        vertical-align: middle;\n",
       "    }\n",
       "\n",
       "    .dataframe tbody tr th {\n",
       "        vertical-align: top;\n",
       "    }\n",
       "\n",
       "    .dataframe thead th {\n",
       "        text-align: right;\n",
       "    }\n",
       "</style>\n",
       "<table border=\"1\" class=\"dataframe\">\n",
       "  <thead>\n",
       "    <tr style=\"text-align: right;\">\n",
       "      <th></th>\n",
       "      <th>0</th>\n",
       "      <th>1</th>\n",
       "      <th>2</th>\n",
       "    </tr>\n",
       "  </thead>\n",
       "  <tbody>\n",
       "    <tr>\n",
       "      <th>0</th>\n",
       "      <td>0</td>\n",
       "      <td>1</td>\n",
       "      <td>0</td>\n",
       "    </tr>\n",
       "    <tr>\n",
       "      <th>1</th>\n",
       "      <td>0</td>\n",
       "      <td>1</td>\n",
       "      <td>0</td>\n",
       "    </tr>\n",
       "    <tr>\n",
       "      <th>2</th>\n",
       "      <td>1</td>\n",
       "      <td>0</td>\n",
       "      <td>0</td>\n",
       "    </tr>\n",
       "    <tr>\n",
       "      <th>3</th>\n",
       "      <td>0</td>\n",
       "      <td>1</td>\n",
       "      <td>0</td>\n",
       "    </tr>\n",
       "    <tr>\n",
       "      <th>4</th>\n",
       "      <td>1</td>\n",
       "      <td>0</td>\n",
       "      <td>0</td>\n",
       "    </tr>\n",
       "  </tbody>\n",
       "</table>\n",
       "</div>"
      ],
      "text/plain": [
       "   0  1  2\n",
       "0  0  1  0\n",
       "1  0  1  0\n",
       "2  1  0  0\n",
       "3  0  1  0\n",
       "4  1  0  0"
      ]
     },
     "execution_count": 38,
     "metadata": {},
     "output_type": "execute_result"
    }
   ],
   "source": [
    "#tadinya mau coba pake ini tapi menurut saya lebih mudah langsung di replace\n",
    "\n",
    "from sklearn.preprocessing import OneHotEncoder\n",
    "from sklearn.compose import ColumnTransformer\n",
    "\n",
    "LowDoc = pd.DataFrame(SBA.LowDoc)\n",
    "LowDoc.head()\n",
    "\n",
    "transformer = ColumnTransformer([\n",
    "    ('encoder', OneHotEncoder(), ['LowDoc'])\n",
    "])\n",
    "\n",
    "LowDoc_encoded = pd.DataFrame(transformer.fit_transform(LowDoc))\n",
    "LowDoc_encoded = LowDoc_encoded.astype(int)\n",
    "LowDoc_encoded.head()"
   ]
  },
  {
   "cell_type": "code",
   "execution_count": 39,
   "metadata": {},
   "outputs": [
    {
     "data": {
      "text/plain": [
       "N    780997\n",
       "Y    110171\n",
       "Name: LowDoc, dtype: int64"
      ]
     },
     "execution_count": 39,
     "metadata": {},
     "output_type": "execute_result"
    }
   ],
   "source": [
    "SBA['LowDoc'].value_counts()"
   ]
  },
  {
   "cell_type": "code",
   "execution_count": 40,
   "metadata": {},
   "outputs": [
    {
     "data": {
      "text/plain": [
       "5999"
      ]
     },
     "execution_count": 40,
     "metadata": {},
     "output_type": "execute_result"
    }
   ],
   "source": [
    "SBA['LowDoc'].isna().sum()"
   ]
  },
  {
   "cell_type": "code",
   "execution_count": 41,
   "metadata": {},
   "outputs": [
    {
     "data": {
      "text/plain": [
       "0.6686603497453651"
      ]
     },
     "execution_count": 41,
     "metadata": {},
     "output_type": "execute_result"
    }
   ],
   "source": [
    "(SBA['LowDoc'].isna().sum() / (len(SBA['LowDoc'])))*100"
   ]
  },
  {
   "cell_type": "markdown",
   "metadata": {},
   "source": [
    "Ada 0.6% baris yang kosong.\n",
    "\n",
    "Berdasarkan jurnal Should This Loan be Approved or Denied?”: A Large Dataset with Class Assignment Guidelines\n",
    "Jika pinjaman <150000 maka 'Yes' (dapat diproses dengan 1 halaman dokumen aplikasi)\n",
    "Jika pinjaman <150000 maka 'No' (tidak dapat diproses dengan 1 halaman dokumen aplikasi)\n",
    "\n",
    "Sehingga akan diisi kolom LowDoc menggunakan kolom DisbursementGross"
   ]
  },
  {
   "cell_type": "code",
   "execution_count": 42,
   "metadata": {},
   "outputs": [
    {
     "data": {
      "text/plain": [
       "N    780997\n",
       "Y    110171\n",
       "Name: LowDoc, dtype: int64"
      ]
     },
     "execution_count": 42,
     "metadata": {},
     "output_type": "execute_result"
    }
   ],
   "source": [
    "SBA['LowDoc'] = np.where((SBA['LowDoc'] == np.nan) & (SBA['DisbursementGross'] < 150000), 'Y', SBA.LowDoc)\n",
    "SBA['LowDoc'] = np.where((SBA['LowDoc'] == np.nan) & (SBA['DisbursementGross'] >= 150000), 'N', SBA.LowDoc)\n",
    "\n",
    "SBA.LowDoc.value_counts()"
   ]
  },
  {
   "cell_type": "code",
   "execution_count": 43,
   "metadata": {},
   "outputs": [],
   "source": [
    "SBA['LowDoc'] = SBA['LowDoc'].replace({'N' : 0, 'Y' : 1})"
   ]
  },
  {
   "cell_type": "code",
   "execution_count": 44,
   "metadata": {},
   "outputs": [
    {
     "data": {
      "text/plain": [
       "0.0    780997\n",
       "1.0    110171\n",
       "Name: LowDoc, dtype: int64"
      ]
     },
     "execution_count": 44,
     "metadata": {},
     "output_type": "execute_result"
    }
   ],
   "source": [
    "SBA.LowDoc.value_counts()"
   ]
  },
  {
   "cell_type": "code",
   "execution_count": 45,
   "metadata": {},
   "outputs": [
    {
     "data": {
      "text/plain": [
       "5999"
      ]
     },
     "execution_count": 45,
     "metadata": {},
     "output_type": "execute_result"
    }
   ],
   "source": [
    "SBA.LowDoc.isna().sum()"
   ]
  },
  {
   "cell_type": "code",
   "execution_count": null,
   "metadata": {},
   "outputs": [],
   "source": []
  },
  {
   "cell_type": "markdown",
   "metadata": {},
   "source": [
    "## RevLineCr"
   ]
  },
  {
   "cell_type": "code",
   "execution_count": 46,
   "metadata": {},
   "outputs": [
    {
     "data": {
      "text/plain": [
       "array(['N', '0', 'Y', 'T', nan, '`', ',', '1', 'C', '3', '2', 'R', '7',\n",
       "       'A', '5', '.', '4', '-', 'Q'], dtype=object)"
      ]
     },
     "execution_count": 46,
     "metadata": {},
     "output_type": "execute_result"
    }
   ],
   "source": [
    "SBA['RevLineCr'].unique()"
   ]
  },
  {
   "cell_type": "code",
   "execution_count": 47,
   "metadata": {},
   "outputs": [],
   "source": [
    "# merubah semua baris selain 'Y' dan 'N' menjadi Nan\n",
    "\n",
    "SBA['RevLineCr'] = np.where((SBA['RevLineCr'] != 'Y') & (SBA['RevLineCr'] != 'N'), np.nan, SBA.RevLineCr)"
   ]
  },
  {
   "cell_type": "code",
   "execution_count": 48,
   "metadata": {},
   "outputs": [
    {
     "data": {
      "text/plain": [
       "array(['N', nan, 'Y'], dtype=object)"
      ]
     },
     "execution_count": 48,
     "metadata": {},
     "output_type": "execute_result"
    }
   ],
   "source": [
    "SBA['RevLineCr'].unique()"
   ]
  },
  {
   "cell_type": "code",
   "execution_count": 49,
   "metadata": {},
   "outputs": [],
   "source": [
    "# Merubah kolom 'RevLineCr' menjadi integer\n",
    "\n",
    "SBA['RevLineCr'] = SBA['RevLineCr'].replace({'N' : 0, 'Y' : 1})"
   ]
  },
  {
   "cell_type": "code",
   "execution_count": 50,
   "metadata": {},
   "outputs": [
    {
     "data": {
      "text/plain": [
       "0.0    419252\n",
       "1.0    200660\n",
       "Name: RevLineCr, dtype: int64"
      ]
     },
     "execution_count": 50,
     "metadata": {},
     "output_type": "execute_result"
    }
   ],
   "source": [
    "SBA.RevLineCr.value_counts()"
   ]
  },
  {
   "cell_type": "code",
   "execution_count": 51,
   "metadata": {},
   "outputs": [
    {
     "data": {
      "text/plain": [
       "277255"
      ]
     },
     "execution_count": 51,
     "metadata": {},
     "output_type": "execute_result"
    }
   ],
   "source": [
    "SBA.RevLineCr.isna().sum()"
   ]
  },
  {
   "cell_type": "code",
   "execution_count": null,
   "metadata": {},
   "outputs": [],
   "source": []
  },
  {
   "cell_type": "markdown",
   "metadata": {},
   "source": [
    "## NewExist"
   ]
  },
  {
   "cell_type": "code",
   "execution_count": 52,
   "metadata": {},
   "outputs": [
    {
     "data": {
      "text/plain": [
       "array([ 2.,  1.,  0., nan])"
      ]
     },
     "execution_count": 52,
     "metadata": {},
     "output_type": "execute_result"
    }
   ],
   "source": [
    "SBA['NewExist'].unique()"
   ]
  },
  {
   "cell_type": "code",
   "execution_count": 53,
   "metadata": {},
   "outputs": [
    {
     "data": {
      "text/plain": [
       "dtype('float64')"
      ]
     },
     "execution_count": 53,
     "metadata": {},
     "output_type": "execute_result"
    }
   ],
   "source": [
    "SBA['NewExist'].dtype"
   ]
  },
  {
   "cell_type": "code",
   "execution_count": 54,
   "metadata": {},
   "outputs": [],
   "source": [
    "# Akan dirubah \n",
    "# 1. = Existing business menjadi 0 (integer),\n",
    "# 2. = New business menjadi 1 (integer), dan\n",
    "# 0. dan nan menjadi 2 (tujuannya untuk mengubah menjadi nan tapi saya gunakan angka terlebih dahulu agar memudahkan merubah menjadi int)\n",
    "\n",
    "SBA['NewExist'] = SBA['NewExist'].replace({1.0 : 0, 2.0 : 1, np.nan : 2, 0. : 2 }).astype(int)"
   ]
  },
  {
   "cell_type": "code",
   "execution_count": 55,
   "metadata": {},
   "outputs": [
    {
     "data": {
      "text/plain": [
       "array([1, 0, 2])"
      ]
     },
     "execution_count": 55,
     "metadata": {},
     "output_type": "execute_result"
    }
   ],
   "source": [
    "SBA['NewExist'].unique()"
   ]
  },
  {
   "cell_type": "code",
   "execution_count": 56,
   "metadata": {},
   "outputs": [
    {
     "data": {
      "text/plain": [
       "0.0    643446\n",
       "1.0    252559\n",
       "Name: NewExist, dtype: int64"
      ]
     },
     "execution_count": 56,
     "metadata": {},
     "output_type": "execute_result"
    }
   ],
   "source": [
    "SBA['NewExist'] = SBA['NewExist'].replace({2 : np.nan})\n",
    "SBA['NewExist'].value_counts()"
   ]
  },
  {
   "cell_type": "code",
   "execution_count": 57,
   "metadata": {},
   "outputs": [
    {
     "data": {
      "text/plain": [
       "1162"
      ]
     },
     "execution_count": 57,
     "metadata": {},
     "output_type": "execute_result"
    }
   ],
   "source": [
    "SBA['NewExist'].isna().sum()"
   ]
  },
  {
   "cell_type": "code",
   "execution_count": null,
   "metadata": {},
   "outputs": [],
   "source": []
  },
  {
   "cell_type": "markdown",
   "metadata": {},
   "source": [
    "## UrbanRural"
   ]
  },
  {
   "cell_type": "code",
   "execution_count": 58,
   "metadata": {},
   "outputs": [
    {
     "data": {
      "text/plain": [
       "1    469281\n",
       "0    322826\n",
       "2    105060\n",
       "Name: UrbanRural, dtype: int64"
      ]
     },
     "execution_count": 58,
     "metadata": {},
     "output_type": "execute_result"
    }
   ],
   "source": [
    "SBA.UrbanRural.value_counts()"
   ]
  },
  {
   "cell_type": "code",
   "execution_count": 59,
   "metadata": {},
   "outputs": [
    {
     "data": {
      "text/plain": [
       "0"
      ]
     },
     "execution_count": 59,
     "metadata": {},
     "output_type": "execute_result"
    }
   ],
   "source": [
    "SBA.UrbanRural.isna().sum()"
   ]
  },
  {
   "cell_type": "code",
   "execution_count": null,
   "metadata": {},
   "outputs": [],
   "source": []
  },
  {
   "cell_type": "markdown",
   "metadata": {},
   "source": [
    "## FranchiseCode"
   ]
  },
  {
   "cell_type": "markdown",
   "metadata": {},
   "source": [
    "Berdasarkan jurnal Should This Loan be Approved or Denied?”: A Large Dataset with Class Assignment Guidelines\n",
    "\n",
    "Jika FranchiseCode = 0 atau FranchiseCode = 1 maka dia tidak ada franchise, selain itu maka ada franchise"
   ]
  },
  {
   "cell_type": "code",
   "execution_count": 60,
   "metadata": {},
   "outputs": [
    {
     "data": {
      "text/plain": [
       "array([    1,     0, 15100, ...,  2899, 18701, 15930], dtype=int64)"
      ]
     },
     "execution_count": 60,
     "metadata": {},
     "output_type": "execute_result"
    }
   ],
   "source": [
    "SBA['FranchiseCode'].unique()"
   ]
  },
  {
   "cell_type": "code",
   "execution_count": 61,
   "metadata": {},
   "outputs": [
    {
     "data": {
      "text/plain": [
       "1        637395\n",
       "0        208040\n",
       "78760      3373\n",
       "68020      1921\n",
       "50564      1034\n",
       "          ...  \n",
       "38608         1\n",
       "75677         1\n",
       "77030         1\n",
       "19660         1\n",
       "25366         1\n",
       "Name: IsFranchised, Length: 2767, dtype: int64"
      ]
     },
     "execution_count": 61,
     "metadata": {},
     "output_type": "execute_result"
    }
   ],
   "source": [
    "# akan diubah nama kolom FranchiseCode menjadi IsFranchised\n",
    "\n",
    "SBA.rename(columns={\"FranchiseCode\": \"IsFranchised\"}, inplace=True)\n",
    "SBA.IsFranchised.value_counts()"
   ]
  },
  {
   "cell_type": "code",
   "execution_count": 62,
   "metadata": {},
   "outputs": [],
   "source": [
    "SBA['IsFranchised'] = SBA['IsFranchised'].replace(1, 0)\n",
    "SBA['IsFranchised'] = np.where((SBA.IsFranchised != 0 ), 1 , SBA.IsFranchised)"
   ]
  },
  {
   "cell_type": "code",
   "execution_count": 63,
   "metadata": {},
   "outputs": [
    {
     "data": {
      "text/plain": [
       "0    845435\n",
       "1     51732\n",
       "Name: IsFranchised, dtype: int64"
      ]
     },
     "execution_count": 63,
     "metadata": {},
     "output_type": "execute_result"
    }
   ],
   "source": [
    "SBA['IsFranchised'].value_counts() # jadi 0 untuk tidak ada franchise dan 1 untuk ada franchise"
   ]
  },
  {
   "cell_type": "code",
   "execution_count": 64,
   "metadata": {},
   "outputs": [
    {
     "data": {
      "text/plain": [
       "0"
      ]
     },
     "execution_count": 64,
     "metadata": {},
     "output_type": "execute_result"
    }
   ],
   "source": [
    "SBA['IsFranchised'].isna().sum()"
   ]
  },
  {
   "cell_type": "code",
   "execution_count": null,
   "metadata": {},
   "outputs": [],
   "source": []
  },
  {
   "cell_type": "markdown",
   "metadata": {},
   "source": [
    "## CreateJob"
   ]
  },
  {
   "cell_type": "code",
   "execution_count": 65,
   "metadata": {},
   "outputs": [
    {
     "data": {
      "text/plain": [
       "array([   0,    7,   30,    5,    4,    1,   20,   10,    3,    8,   16,\n",
       "         15,    6,   11,    2,   40,   55,   25,   12,   21,   50,    9,\n",
       "         13,   47,   18,   17,   14,   29,   23,   35,   43,   75,   22,\n",
       "         45,   27,   65,   19,   58,   48,   72,   38,   28,   24,  150,\n",
       "        200,   82,   68,   41,   80,   70,   33,   97,   32,   26,   34,\n",
       "         36,   31,  100,   56,   60,   90,   77,   99,   39,   44,   51,\n",
       "        120,   85,   69,   95,   42,  160,   37,   57,  600,   49, 1000,\n",
       "         53,   54,   46,   59,  163,  450,  456, 3000,  452,  451,  198,\n",
       "         79,  454,   62,  136,   64,   52,  126,  180,   74,  303,   63,\n",
       "        386,   78,   98,  455,   76,  152,  221,  110,   84,  153,  127,\n",
       "       2020,  225,  453,  125,  458,  457,  174,  104,   89,  320,  154,\n",
       "        300,  102,  149, 8800,  800,  130,  235, 5199,  250,  137,  500,\n",
       "        121,  105,   96,  360,  255,  140,  122,  175, 1200,   66,  112,\n",
       "       3500,  118,  220,  115,   73,   93,  151,  195,   67,  138,  400,\n",
       "         61,  124,   91, 1711,  131,  184,   83,  409, 1618, 1150,   88,\n",
       "       1530,  157,  145,  166,  135,  210,  226,  183, 3100,  252,  116,\n",
       "         71,  129,  223,   81,  569,  139,  144, 1011,  179,  214,  146,\n",
       "        171,  141,  350,   92,  101,  119,  280,  123,  205, 1229,  128,\n",
       "        103,  189,  114,  108,  158,  167,   87,  186,   86,  134, 1100,\n",
       "        750,  206,  375,  109,  433, 2140,  177,  264,  168,  240, 5621,\n",
       "        170,  169,  165,  222,  106,  148,  363, 1118,  310,  164, 5085,\n",
       "        143,  480,  256,  365,  155,  190,  397, 1027,  270,   94, 2515,\n",
       "        162,  182, 1016,  860], dtype=int64)"
      ]
     },
     "execution_count": 65,
     "metadata": {},
     "output_type": "execute_result"
    }
   ],
   "source": [
    "SBA['CreateJob'].unique()"
   ]
  },
  {
   "cell_type": "code",
   "execution_count": 66,
   "metadata": {},
   "outputs": [
    {
     "data": {
      "text/plain": [
       "0    627614\n",
       "1    269553\n",
       "Name: IsCreatedJob, dtype: int64"
      ]
     },
     "execution_count": 66,
     "metadata": {},
     "output_type": "execute_result"
    }
   ],
   "source": [
    "# jika > 0 maka membuat job. kalau 0 maka tidak menbuat job\n",
    "# untuk yang tidak membuat job akan dibuat menjadi 1\n",
    "\n",
    "SBA.rename(columns={\"CreateJob\": \"IsCreatedJob\"}, inplace=True)\n",
    "SBA['IsCreatedJob'] = np.where((SBA.IsCreatedJob > 0 ), 1, SBA.IsCreatedJob)\n",
    "SBA.IsCreatedJob.value_counts()"
   ]
  },
  {
   "cell_type": "code",
   "execution_count": null,
   "metadata": {},
   "outputs": [],
   "source": []
  },
  {
   "cell_type": "markdown",
   "metadata": {},
   "source": [
    "## RetainedJob"
   ]
  },
  {
   "cell_type": "code",
   "execution_count": 67,
   "metadata": {},
   "outputs": [],
   "source": [
    "## jika RetainedJob = 0 maka tidak memiliki karyawan tetap, maka jika Retained > 0 maka memiliki karyawan\n",
    "\n",
    "SBA.rename(columns={\"RetainedJob\": \"IsRetainedJob\"}, inplace=True)"
   ]
  },
  {
   "cell_type": "code",
   "execution_count": 68,
   "metadata": {},
   "outputs": [],
   "source": [
    "SBA['IsRetainedJob'] = np.where((SBA.IsRetainedJob > 0 ), 1,SBA.IsRetainedJob)"
   ]
  },
  {
   "cell_type": "code",
   "execution_count": 69,
   "metadata": {},
   "outputs": [
    {
     "data": {
      "text/plain": [
       "1    457194\n",
       "0    439973\n",
       "Name: IsRetainedJob, dtype: int64"
      ]
     },
     "execution_count": 69,
     "metadata": {},
     "output_type": "execute_result"
    }
   ],
   "source": [
    "SBA.IsRetainedJob.value_counts()"
   ]
  },
  {
   "cell_type": "code",
   "execution_count": 70,
   "metadata": {},
   "outputs": [
    {
     "data": {
      "text/plain": [
       "0"
      ]
     },
     "execution_count": 70,
     "metadata": {},
     "output_type": "execute_result"
    }
   ],
   "source": [
    "SBA.IsRetainedJob.isna().sum()"
   ]
  },
  {
   "cell_type": "code",
   "execution_count": null,
   "metadata": {},
   "outputs": [],
   "source": []
  },
  {
   "cell_type": "markdown",
   "metadata": {},
   "source": [
    "## Term"
   ]
  },
  {
   "cell_type": "code",
   "execution_count": 71,
   "metadata": {},
   "outputs": [],
   "source": [
    "# Loan Term (dalam bulan)\n",
    "# Berdasarkan jurnal Should This Loan be Approved or Denied?”: A Large Dataset with Class Assignment Guidelines\n",
    "# 1 : Jika Term > = 240 bulan (20 tahun) perlu di back up dengan properti jika kurang\n",
    "# 0 : Term < 240 bulan (20 tahun) tidak perlu di back up dengan properti"
   ]
  },
  {
   "cell_type": "code",
   "execution_count": 72,
   "metadata": {},
   "outputs": [
    {
     "data": {
      "text/plain": [
       "array([ 84,  60, 180, 240, 120,  45, 297, 162,  12, 300,  87, 114, 144,\n",
       "       126,  83, 102,  80, 137,  42,  96, 167,   7,  36,  37,  26, 264,\n",
       "        72,  24,   5,  54,  66, 161,  71,   4,  93, 288, 108,  10,  13,\n",
       "        90,  19,  16,   3,  27, 149,  41, 246,  18,  57, 104,  82, 298,\n",
       "        14,  61, 127,  58,  44,  32,  85,  48,  31, 112,  38,  73,  47,\n",
       "        11, 134,  15,  79,  53,  39,   6, 255,  55, 133,  95,  35,  59,\n",
       "        62,  68, 123,  46,  70, 138,  40,  52,  25,  65,  91,   1,  74,\n",
       "        49, 103,  77,  86,  63,  56,  22,   0,  97,  23,  17,  69,  21,\n",
       "        43,  89, 276,  92, 183,   2, 132,  34, 131,   9,  78,  99, 129,\n",
       "       216,   8,  29, 289,  30, 119, 228, 168, 208,  81, 147, 125,  94,\n",
       "        51, 211,  64, 111, 266,  75, 306,  28, 232, 117, 118, 309, 303,\n",
       "        98, 191, 116,  76, 113, 292,  88, 166, 244, 176, 258, 203, 231,\n",
       "       142,  33, 157, 165,  50, 210, 294, 301, 106,  20, 318, 229, 204,\n",
       "       269, 241, 178, 115, 174, 192,  67, 100, 141, 282, 122, 156, 153,\n",
       "       268, 249, 238, 233, 105, 263, 124, 279, 140, 186, 107, 190, 308,\n",
       "       128, 243, 302, 299, 280, 223, 311, 222, 202, 257, 130, 101, 121,\n",
       "       278, 272, 319, 283, 221, 250, 290, 199, 252, 187, 310, 304, 136,\n",
       "       261, 196, 181, 175, 195, 177, 139, 110, 242, 270, 277, 184, 150,\n",
       "       207, 358, 213, 273, 357, 248, 275, 164, 239, 206, 215, 170, 254,\n",
       "       217, 172, 158, 218, 189, 256, 179, 262, 193, 146, 155, 135, 185,\n",
       "       307, 200, 109, 265, 349, 209, 236, 251, 145, 152, 169, 245, 230,\n",
       "       285, 201, 293, 171, 227, 188, 225, 247, 163, 143, 235, 160, 148,\n",
       "       253, 159, 295, 198, 271, 234, 237, 336, 220, 291, 287, 154, 219,\n",
       "       197, 312, 284, 281, 151, 267, 274, 182, 212, 305, 205, 226, 194,\n",
       "       259, 214, 173, 224, 385, 313, 340, 461, 296, 343, 348, 286, 260,\n",
       "       334, 320, 315, 360, 421, 342, 351, 372, 314, 354, 435, 316, 480,\n",
       "       329, 387, 325, 321, 317, 352, 359, 389, 333, 330, 417, 404, 370,\n",
       "       324, 398, 419, 425, 414, 365, 345, 481, 350, 335, 369, 341, 355,\n",
       "       362, 322, 339, 375, 323, 347, 327, 505, 326, 418, 328, 363, 413,\n",
       "       361, 356, 396, 438, 382, 364, 367, 374, 442, 353, 527, 569, 338,\n",
       "       366, 386, 368, 428, 346, 388, 430, 443, 381, 409, 445, 384, 391,\n",
       "       511, 412, 449, 403, 434, 402, 423, 440, 429], dtype=int64)"
      ]
     },
     "execution_count": 72,
     "metadata": {},
     "output_type": "execute_result"
    }
   ],
   "source": [
    "SBA['Term'].unique()"
   ]
  },
  {
   "cell_type": "code",
   "execution_count": 73,
   "metadata": {},
   "outputs": [],
   "source": [
    "SBA['RealEstate'] = SBA['Term'].apply(lambda x: 1 if x >= 240 else 0)"
   ]
  },
  {
   "cell_type": "code",
   "execution_count": 74,
   "metadata": {},
   "outputs": [
    {
     "data": {
      "text/plain": [
       "0    745059\n",
       "1    152108\n",
       "Name: RealEstate, dtype: int64"
      ]
     },
     "execution_count": 74,
     "metadata": {},
     "output_type": "execute_result"
    }
   ],
   "source": [
    "SBA['RealEstate'].value_counts()"
   ]
  },
  {
   "cell_type": "code",
   "execution_count": 75,
   "metadata": {},
   "outputs": [
    {
     "data": {
      "text/plain": [
       "0"
      ]
     },
     "execution_count": 75,
     "metadata": {},
     "output_type": "execute_result"
    }
   ],
   "source": [
    "SBA['RealEstate'].isna().sum()"
   ]
  },
  {
   "cell_type": "code",
   "execution_count": null,
   "metadata": {},
   "outputs": [],
   "source": []
  },
  {
   "cell_type": "markdown",
   "metadata": {},
   "source": [
    "## Kolom Baru : Recession"
   ]
  },
  {
   "cell_type": "markdown",
   "metadata": {},
   "source": [
    "##### 1 : jika perusahaan aktif selama masa resesi (1 Des 2007 - 30 Jun 2009)\n",
    "##### 0 : jika perusahaan tidak aktif/gagal bayar selama masa resesi (1 Des 2007 - 30 Jun 2009)"
   ]
  },
  {
   "cell_type": "code",
   "execution_count": 76,
   "metadata": {},
   "outputs": [],
   "source": [
    "SBA['DaysTerm'] = SBA['Term'] * 30 # Loan Term dalam hari"
   ]
  },
  {
   "cell_type": "code",
   "execution_count": 77,
   "metadata": {},
   "outputs": [],
   "source": [
    "SBA['DaysTerm'] =  SBA['Term']*30\n",
    "SBA['IsActive'] = SBA['DisbursementDate'] + pd.TimedeltaIndex(SBA['DaysTerm'], unit='D')\n",
    "\n",
    "startdate = pd.to_datetime('2007-12-1', format = \"%Y-%m-%d\")\n",
    "enddate = pd.to_datetime('2009-06-30', format = \"%Y-%m-%d\")\n",
    "SBA['Recession'] = SBA['IsActive'].apply(lambda x: 1 if startdate <= x <= enddate else 0)"
   ]
  },
  {
   "cell_type": "code",
   "execution_count": 78,
   "metadata": {},
   "outputs": [
    {
     "data": {
      "text/plain": [
       "0    825731\n",
       "1     71436\n",
       "Name: Recession, dtype: int64"
      ]
     },
     "execution_count": 78,
     "metadata": {},
     "output_type": "execute_result"
    }
   ],
   "source": [
    "SBA['Recession'].value_counts()"
   ]
  },
  {
   "cell_type": "code",
   "execution_count": 79,
   "metadata": {},
   "outputs": [
    {
     "data": {
      "text/plain": [
       "0"
      ]
     },
     "execution_count": 79,
     "metadata": {},
     "output_type": "execute_result"
    }
   ],
   "source": [
    "SBA['Recession'].isna().sum()"
   ]
  },
  {
   "cell_type": "code",
   "execution_count": null,
   "metadata": {},
   "outputs": [],
   "source": []
  },
  {
   "cell_type": "markdown",
   "metadata": {},
   "source": [
    "## NAICS"
   ]
  },
  {
   "cell_type": "markdown",
   "metadata": {},
   "source": [
    "![](SBA.png)"
   ]
  },
  {
   "cell_type": "code",
   "execution_count": 80,
   "metadata": {},
   "outputs": [
    {
     "data": {
      "text/plain": [
       "0    451120\n",
       "1    722410\n",
       "2    621210\n",
       "3         0\n",
       "4         0\n",
       "Name: NAICS, dtype: int64"
      ]
     },
     "execution_count": 80,
     "metadata": {},
     "output_type": "execute_result"
    }
   ],
   "source": [
    "SBA['NAICS'].head()"
   ]
  },
  {
   "cell_type": "code",
   "execution_count": 81,
   "metadata": {},
   "outputs": [],
   "source": [
    "# Berdasarkan jurnal Should This Loan be Approved or Denied?”: A Large Dataset with Class Assignment Guidelines\n",
    "# Sector adalah 2 angka pertama dari NAICS\n",
    "SBA.rename(columns={\"NAICS\": \"Sector\"}, inplace=True)"
   ]
  },
  {
   "cell_type": "code",
   "execution_count": 82,
   "metadata": {},
   "outputs": [
    {
     "data": {
      "text/plain": [
       "0    45\n",
       "1    72\n",
       "2    62\n",
       "3     0\n",
       "4     0\n",
       "Name: Sector, dtype: object"
      ]
     },
     "execution_count": 82,
     "metadata": {},
     "output_type": "execute_result"
    }
   ],
   "source": [
    "r = []\n",
    "for i in SBA['Sector'] :\n",
    "    if i == 0 :\n",
    "        r.append(0)\n",
    "    else :\n",
    "        a = str(i)[ : 2]\n",
    "        r.append(a)\n",
    "\n",
    "SBA['Sector'] = r\n",
    "SBA['Sector'].head()"
   ]
  },
  {
   "cell_type": "code",
   "execution_count": 83,
   "metadata": {},
   "outputs": [],
   "source": [
    "def rate(i):\n",
    "    sector_default = {'21':0.08, \n",
    "                      '11':0.09, '55':0.10, \n",
    "                      '62':0.10, '22':0.14, \n",
    "                      '92':0.15, '54':0.19, \n",
    "                      '42':0.19, '31':0.19,\n",
    "                      '32':0.16, '33':0.14,\n",
    "                      '81':0.20, '71':0.21,\n",
    "                      '72':0.22, '44':0.22,\n",
    "                      '45':0.23, '23':0.23,\n",
    "                      '56':0.24, '61':0.24,\n",
    "                      '51':0.25, '48':0.27,\n",
    "                      '49':0.23, '52':0.28, \n",
    "                      '53':0.29}\n",
    "    \n",
    "    if i in sector_default:\n",
    "        return sector_default[i]\n",
    "    \n",
    "    else :\n",
    "        return np.nan\n",
    "    "
   ]
  },
  {
   "cell_type": "code",
   "execution_count": 84,
   "metadata": {},
   "outputs": [
    {
     "data": {
      "text/plain": [
       "0    0.23\n",
       "1    0.22\n",
       "2    0.10\n",
       "3     NaN\n",
       "4     NaN\n",
       "Name: SectorRate, dtype: float64"
      ]
     },
     "execution_count": 84,
     "metadata": {},
     "output_type": "execute_result"
    }
   ],
   "source": [
    "# Kolom baru : Sector_rate\n",
    "SBA['SectorRate'] = SBA.Sector.apply(rate)\n",
    "SBA['SectorRate'].head()"
   ]
  },
  {
   "cell_type": "code",
   "execution_count": null,
   "metadata": {},
   "outputs": [],
   "source": []
  },
  {
   "cell_type": "code",
   "execution_count": 85,
   "metadata": {},
   "outputs": [],
   "source": [
    "# ===================================================================="
   ]
  },
  {
   "cell_type": "code",
   "execution_count": 86,
   "metadata": {},
   "outputs": [],
   "source": [
    "# Berdasarkan jurnal Should This Loan be Approved or Denied?”: A Large Dataset with Class Assignment Guidelines (halaman 58),\n",
    "# data ini diambil dari tahun 1987 - 2014, namun karena membuat kolom baru yakni Recession yang artinya pinjamanya harus melewati massa resessi pada tahun 2007 sampai 2009\n",
    "# sehingga data yang diambil hanya sampai tahun 2010 karena rerata lama pinjaman hanya selama 5 tahun atau lebih (Tanggal pencairan setelah tanggal 31-12-2010 dihapus)\n",
    "SBA = SBA[SBA['DisbursementDate'] <= pd.to_datetime('2010-12-31', format = \"%Y-%m-%d\")]\n",
    "\n",
    "# atau dengan kata lain dengan dimasukkannya pinjaman dengan pencairan setelah tahun 2010 akan memberikan bobot yang lebih besar \n",
    "# kepada pinjaman yang dikenakan biaya versus dibayar penuh. Lebih khusus lagi, pinjaman yang dibebankan sebelum tanggal jatuh tempo pinjaman,\n",
    "# sementara pinjaman yang kemungkinan akan dibayarkan secara penuh akan melakukannya pada tanggal jatuh tempo pinjaman (yang akan melampaui akhiran set data pada tahun 2014).\n",
    "# jadi hanya akan digunakan DisbursementDate sebelum tanggal 31-12-2010"
   ]
  },
  {
   "cell_type": "code",
   "execution_count": 87,
   "metadata": {},
   "outputs": [
    {
     "data": {
      "text/plain": [
       "LoanNr_ChkDgt             0\n",
       "Name                     12\n",
       "City                     30\n",
       "State                    12\n",
       "Zip                       0\n",
       "Bank                   1504\n",
       "BankState              1511\n",
       "Sector                    0\n",
       "ApprovalDate              0\n",
       "ApprovalFY                0\n",
       "Term                      0\n",
       "NoEmp                     0\n",
       "NewExist               1127\n",
       "IsCreatedJob              0\n",
       "IsRetainedJob             0\n",
       "IsFranchised              0\n",
       "UrbanRural                0\n",
       "RevLineCr            276426\n",
       "LowDoc                 5384\n",
       "ChgOffDate           714374\n",
       "DisbursementDate          0\n",
       "DisbursementGross         0\n",
       "BalanceGross              0\n",
       "MIS_Status                0\n",
       "ChgOffPrinGr              0\n",
       "GrAppv                    0\n",
       "SBA_Appv                  0\n",
       "RealEstate                0\n",
       "DaysTerm                  0\n",
       "IsActive                  0\n",
       "Recession                 0\n",
       "SectorRate           201364\n",
       "dtype: int64"
      ]
     },
     "execution_count": 87,
     "metadata": {},
     "output_type": "execute_result"
    }
   ],
   "source": [
    "SBA.isna().sum()"
   ]
  },
  {
   "cell_type": "code",
   "execution_count": 88,
   "metadata": {},
   "outputs": [],
   "source": [
    "# Akan di-drop kolom yang masih ada input yang kosong karena tidak ada gunanya dan sudah digantikan dengan\n",
    "# kolom yang lainya untuk dilakukan EDA.\n",
    "# IsActive dan DaysTerm sudah digantikan dengan Recession\n",
    "# ChgOffDate karena mengintepretasikannya sama dengan MIS_Status\n",
    "# Name, Bank, dan Bank State karena tidak terlalu penting untuk target (target : berikan loan atau tidak).\n",
    "SBA = SBA.drop(columns=['Name', 'Bank', 'BankState', 'ChgOffDate', 'IsActive', 'DaysTerm'], axis=1)"
   ]
  },
  {
   "cell_type": "code",
   "execution_count": 89,
   "metadata": {},
   "outputs": [
    {
     "data": {
      "text/plain": [
       "LoanNr_ChkDgt             0\n",
       "City                     30\n",
       "State                    12\n",
       "Zip                       0\n",
       "Sector                    0\n",
       "ApprovalDate              0\n",
       "ApprovalFY                0\n",
       "Term                      0\n",
       "NoEmp                     0\n",
       "NewExist               1127\n",
       "IsCreatedJob              0\n",
       "IsRetainedJob             0\n",
       "IsFranchised              0\n",
       "UrbanRural                0\n",
       "RevLineCr            276426\n",
       "LowDoc                 5384\n",
       "DisbursementDate          0\n",
       "DisbursementGross         0\n",
       "BalanceGross              0\n",
       "MIS_Status                0\n",
       "ChgOffPrinGr              0\n",
       "GrAppv                    0\n",
       "SBA_Appv                  0\n",
       "RealEstate                0\n",
       "Recession                 0\n",
       "SectorRate           201364\n",
       "dtype: int64"
      ]
     },
     "execution_count": 89,
     "metadata": {},
     "output_type": "execute_result"
    }
   ],
   "source": [
    "SBA.isna().sum()"
   ]
  },
  {
   "cell_type": "code",
   "execution_count": 90,
   "metadata": {},
   "outputs": [],
   "source": [
    "#Input yang hilang pada kolom LowDoc da MIS_Status tidak bisa diinput dengan kondisi yang telah dibuat dan persentasenya sangat sedikit dibandingkan dengan data tidak kosong sehingga kita drop rownya\n",
    "SBA.dropna(subset=['City', 'State','LowDoc', 'MIS_Status', 'Sector', 'SectorRate', 'RevLineCr', 'NewExist'], inplace=True)"
   ]
  },
  {
   "cell_type": "code",
   "execution_count": 91,
   "metadata": {},
   "outputs": [
    {
     "data": {
      "text/plain": [
       "LoanNr_ChkDgt        0\n",
       "City                 0\n",
       "State                0\n",
       "Zip                  0\n",
       "Sector               0\n",
       "ApprovalDate         0\n",
       "ApprovalFY           0\n",
       "Term                 0\n",
       "NoEmp                0\n",
       "NewExist             0\n",
       "IsCreatedJob         0\n",
       "IsRetainedJob        0\n",
       "IsFranchised         0\n",
       "UrbanRural           0\n",
       "RevLineCr            0\n",
       "LowDoc               0\n",
       "DisbursementDate     0\n",
       "DisbursementGross    0\n",
       "BalanceGross         0\n",
       "MIS_Status           0\n",
       "ChgOffPrinGr         0\n",
       "GrAppv               0\n",
       "SBA_Appv             0\n",
       "RealEstate           0\n",
       "Recession            0\n",
       "SectorRate           0\n",
       "dtype: int64"
      ]
     },
     "execution_count": 91,
     "metadata": {},
     "output_type": "execute_result"
    }
   ],
   "source": [
    "SBA.isna().sum()"
   ]
  },
  {
   "cell_type": "code",
   "execution_count": 92,
   "metadata": {},
   "outputs": [],
   "source": [
    "# export SBA to csv\n",
    "SBA.to_csv('SBA_clean.csv')"
   ]
  },
  {
   "cell_type": "code",
   "execution_count": null,
   "metadata": {},
   "outputs": [],
   "source": []
  }
 ],
 "metadata": {
  "kernelspec": {
   "display_name": "Python 3",
   "language": "python",
   "name": "python3"
  },
  "language_info": {
   "codemirror_mode": {
    "name": "ipython",
    "version": 3
   },
   "file_extension": ".py",
   "mimetype": "text/x-python",
   "name": "python",
   "nbconvert_exporter": "python",
   "pygments_lexer": "ipython3",
   "version": "3.8.3"
  }
 },
 "nbformat": 4,
 "nbformat_minor": 4
}
